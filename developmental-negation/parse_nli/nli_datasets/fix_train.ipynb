{
 "cells": [
  {
   "cell_type": "code",
   "execution_count": 27,
   "metadata": {},
   "outputs": [],
   "source": [
    "\"\"\"\n",
    "    Use this script to get rid of any negated examples that may have been left in the train set\n",
    "\"\"\"\n",
    "import pandas as pd\n",
    "train = pd.read_json(\"nli_negation_train_v4.json\",lines=True)\n",
    "for index, row in train.iterrows():\n",
    "    if 'not' in row['sentence1'].lower() or 'no' in row['sentence1'].lower():\n",
    "        train.at[index, 'posession'] = 1\n",
    "    \n",
    "    if 'not' in row['sentence2'].lower() or 'no' in row['sentence2'].lower():\n",
    "        train.at[index, 'posession'] = 1\n",
    "train.drop(columns=['sentence1_binary_parse','sentence1_parse','sentence2_binary_parse','sentence2_parse'],inplace=True)\n",
    "train.to_json(\"nli_negation_test_v4.json\",lines=True,orient=\"records\")"
   ]
  },
  {
   "cell_type": "code",
   "execution_count": 21,
   "metadata": {},
   "outputs": [],
   "source": [
    "train = train[train['posession'] == 0]"
   ]
  },
  {
   "cell_type": "code",
   "execution_count": 22,
   "metadata": {},
   "outputs": [],
   "source": [
    "train.to_json(\"nli_negation_train_v4.json\",lines=True,orient=\"records\")"
   ]
  },
  {
   "cell_type": "code",
   "execution_count": null,
   "metadata": {},
   "outputs": [],
   "source": []
  }
 ],
 "metadata": {
  "interpreter": {
   "hash": "259ca57c811432cc8757b13fc29664a72c49c802072e83048f6cb3fa2e4701ce"
  },
  "kernelspec": {
   "display_name": "Python 3.9.7 64-bit ('transformers': conda)",
   "language": "python",
   "name": "python3"
  },
  "language_info": {
   "codemirror_mode": {
    "name": "ipython",
    "version": 3
   },
   "file_extension": ".py",
   "mimetype": "text/x-python",
   "name": "python",
   "nbconvert_exporter": "python",
   "pygments_lexer": "ipython3",
   "version": "3.9.7"
  },
  "orig_nbformat": 4
 },
 "nbformat": 4,
 "nbformat_minor": 2
}
